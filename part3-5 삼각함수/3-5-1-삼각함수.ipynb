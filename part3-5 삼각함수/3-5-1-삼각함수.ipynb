{
 "cells": [
  {
   "cell_type": "code",
   "execution_count": 2,
   "metadata": {},
   "outputs": [
    {
     "data": {
      "text/latex": [
       "$\\displaystyle \\sin(\\theta) = \\frac{b}{c}$"
      ],
      "text/plain": [
       "<IPython.core.display.Math object>"
      ]
     },
     "metadata": {},
     "output_type": "display_data"
    },
    {
     "data": {
      "text/latex": [
       "$\\displaystyle \\cos(\\theta) = \\frac{a}{c}$"
      ],
      "text/plain": [
       "<IPython.core.display.Math object>"
      ]
     },
     "metadata": {},
     "output_type": "display_data"
    },
    {
     "data": {
      "text/latex": [
       "$\\displaystyle \\tan(\\theta) = \\frac{b}{a}$"
      ],
      "text/plain": [
       "<IPython.core.display.Math object>"
      ]
     },
     "metadata": {},
     "output_type": "display_data"
    }
   ],
   "source": [
    "# 직각을 낀 변이 a, b이고 맞은편이 c, 그리고 a, c의 사이각이 세타이다\n",
    "# sin(사인), cos(코사인), tan(탄젠트)를 삼각함수라고 한다 \n",
    "\n",
    "from IPython.display import display, Math\n",
    "\n",
    "display(Math(r'\\sin(\\theta) = \\frac{b}{c}'))\n",
    "\n",
    "display(Math(r'\\cos(\\theta) = \\frac{a}{c}'))\n",
    "\n",
    "display(Math(r'\\tan(\\theta) = \\frac{b}{a}'))\n",
    "\n"
   ]
  },
  {
   "cell_type": "code",
   "execution_count": 6,
   "metadata": {},
   "outputs": [
    {
     "data": {
      "text/latex": [
       "$\\displaystyle (\\sin\\theta)^2 + (\\cos\\theta)^2 = 1$"
      ],
      "text/plain": [
       "<IPython.core.display.Math object>"
      ]
     },
     "metadata": {},
     "output_type": "display_data"
    },
    {
     "data": {
      "text/latex": [
       "$\\displaystyle \\tan\\theta = \\frac{\\sin\\theta}{\\cos\\theta}$"
      ],
      "text/plain": [
       "<IPython.core.display.Math object>"
      ]
     },
     "metadata": {},
     "output_type": "display_data"
    }
   ],
   "source": [
    "# 삼각함수는 다음 관계를 만족한다\n",
    "from IPython.display import display, Math\n",
    "\n",
    "display(Math(r'(\\sin\\theta)^2 + (\\cos\\theta)^2 = 1'))\n",
    "\n",
    "display(Math(r'\\tan\\theta = \\frac{\\sin\\theta}{\\cos\\theta}'))"
   ]
  }
 ],
 "metadata": {
  "kernelspec": {
   "display_name": "base",
   "language": "python",
   "name": "python3"
  },
  "language_info": {
   "codemirror_mode": {
    "name": "ipython",
    "version": 3
   },
   "file_extension": ".py",
   "mimetype": "text/x-python",
   "name": "python",
   "nbconvert_exporter": "python",
   "pygments_lexer": "ipython3",
   "version": "3.11.7"
  }
 },
 "nbformat": 4,
 "nbformat_minor": 2
}
