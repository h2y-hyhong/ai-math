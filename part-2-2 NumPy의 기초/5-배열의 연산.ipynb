{
 "cells": [
  {
   "cell_type": "code",
   "execution_count": 1,
   "metadata": {},
   "outputs": [
    {
     "name": "stdout",
     "output_type": "stream",
     "text": [
      "[[0 1 2]\n",
      " [3 4 5]]\n",
      "\n",
      "[[3 4 5]\n",
      " [6 7 8]]\n",
      "\n",
      "[[ 0  3  6]\n",
      " [ 9 12 15]]\n"
     ]
    }
   ],
   "source": [
    "# 배열과 수치의 연산\n",
    "\n",
    "import numpy as np\n",
    "\n",
    "a = np.array(\n",
    "    [\n",
    "        [0, 1, 2],\n",
    "        [3, 4, 5]\n",
    "    ]\n",
    ")\n",
    "\n",
    "print(a)\n",
    "print()\n",
    "print(a + 3)\n",
    "print()\n",
    "print(a * 3)"
   ]
  },
  {
   "cell_type": "code",
   "execution_count": 2,
   "metadata": {},
   "outputs": [
    {
     "name": "stdout",
     "output_type": "stream",
     "text": [
      "[[0 1 2]\n",
      " [3 4 5]]\n",
      "\n",
      "[[ 2  0  1]\n",
      " [ 5  4 33]]\n",
      "\n",
      "[[ 2  1  3]\n",
      " [ 8  8 38]]\n",
      "\n",
      "[[ -2   1   1]\n",
      " [ -2   0 -28]]\n"
     ]
    }
   ],
   "source": [
    "# 배열끼리의 연산\n",
    "\n",
    "b = np.array(\n",
    "    [\n",
    "        [0, 1, 2],\n",
    "        [3, 4, 5]\n",
    "    ]\n",
    ")\n",
    "\n",
    "c = np.array(\n",
    "    [\n",
    "        [2, 0, 1],\n",
    "        [5, 4, 33]\n",
    "    ]\n",
    ")\n",
    "\n",
    "print(b)\n",
    "print()\n",
    "print(c)\n",
    "print()\n",
    "print(b + c)\n",
    "print()\n",
    "print(b - c)"
   ]
  }
 ],
 "metadata": {
  "kernelspec": {
   "display_name": "base",
   "language": "python",
   "name": "python3"
  },
  "language_info": {
   "codemirror_mode": {
    "name": "ipython",
    "version": 3
   },
   "file_extension": ".py",
   "mimetype": "text/x-python",
   "name": "python",
   "nbconvert_exporter": "python",
   "pygments_lexer": "ipython3",
   "version": "3.11.7"
  }
 },
 "nbformat": 4,
 "nbformat_minor": 2
}
