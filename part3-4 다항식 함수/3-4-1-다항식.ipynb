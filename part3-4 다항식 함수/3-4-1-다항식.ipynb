{
 "cells": [
  {
   "cell_type": "code",
   "execution_count": 1,
   "metadata": {},
   "outputs": [
    {
     "data": {
      "text/latex": [
       "$\\displaystyle 2x - 1$"
      ],
      "text/plain": [
       "<IPython.core.display.Math object>"
      ]
     },
     "metadata": {},
     "output_type": "display_data"
    },
    {
     "data": {
      "text/latex": [
       "$\\displaystyle 3x^2 + 2x + 1 $"
      ],
      "text/plain": [
       "<IPython.core.display.Math object>"
      ]
     },
     "metadata": {},
     "output_type": "display_data"
    },
    {
     "data": {
      "text/latex": [
       "$\\displaystyle 4x^3 + 2x^2 + x + 3$"
      ],
      "text/plain": [
       "<IPython.core.display.Math object>"
      ]
     },
     "metadata": {},
     "output_type": "display_data"
    }
   ],
   "source": [
    "# 여러개의 항으로 이뤄진 식을 다항식이라고 한다\n",
    "\n",
    "from IPython.display import display, Math\n",
    "\n",
    "display(Math(r'2x - 1'))\n",
    "display(Math(r'3x^2 + 2x + 1 '))\n",
    "display(Math(r'4x^3 + 2x^2 + x + 3'))"
   ]
  },
  {
   "cell_type": "code",
   "execution_count": 2,
   "metadata": {},
   "outputs": [
    {
     "data": {
      "text/latex": [
       "$\\displaystyle y = 2x - 1$"
      ],
      "text/plain": [
       "<IPython.core.display.Math object>"
      ]
     },
     "metadata": {},
     "output_type": "display_data"
    },
    {
     "data": {
      "text/latex": [
       "$\\displaystyle y = 3x^2 + 2x + 1 $"
      ],
      "text/plain": [
       "<IPython.core.display.Math object>"
      ]
     },
     "metadata": {},
     "output_type": "display_data"
    },
    {
     "data": {
      "text/latex": [
       "$\\displaystyle y = 4x^3 + 2x^2 + x + 3$"
      ],
      "text/plain": [
       "<IPython.core.display.Math object>"
      ]
     },
     "metadata": {},
     "output_type": "display_data"
    }
   ],
   "source": [
    "# 다향식을 이용한 함수를 다항식 함수라고 한다\n",
    "display(Math(r'y = 2x - 1'))\n",
    "display(Math(r'y = 3x^2 + 2x + 1 '))\n",
    "display(Math(r'y = 4x^3 + 2x^2 + x + 3'))"
   ]
  },
  {
   "cell_type": "code",
   "execution_count": 3,
   "metadata": {},
   "outputs": [
    {
     "data": {
      "text/latex": [
       "$\\displaystyle y = a_nx^n + a_{n-1}x^{n-1} + \\cdots + a_1x + a_0$"
      ],
      "text/plain": [
       "<IPython.core.display.Math object>"
      ]
     },
     "metadata": {},
     "output_type": "display_data"
    }
   ],
   "source": [
    "# 일반화하면 다항식은 다음과 같이 나타낼 수 있다\n",
    "# 이경우 x의 지수(차수) 중 가장 큰 것은 n인데 , 이러한 다항식을 n차 다항식이라고 한다\n",
    "\n",
    "display(Math(r'y = a_nx^n + a_{n-1}x^{n-1} + \\cdots + a_1x + a_0'))"
   ]
  }
 ],
 "metadata": {
  "kernelspec": {
   "display_name": "base",
   "language": "python",
   "name": "python3"
  },
  "language_info": {
   "codemirror_mode": {
    "name": "ipython",
    "version": 3
   },
   "file_extension": ".py",
   "mimetype": "text/x-python",
   "name": "python",
   "nbconvert_exporter": "python",
   "pygments_lexer": "ipython3",
   "version": "3.11.7"
  }
 },
 "nbformat": 4,
 "nbformat_minor": 2
}
