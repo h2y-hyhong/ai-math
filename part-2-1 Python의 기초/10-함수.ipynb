{
 "cells": [
  {
   "cell_type": "code",
   "execution_count": null,
   "metadata": {},
   "outputs": [],
   "source": [
    "# 함수를 이용하면 여러 행의 처리를 그룹으로 모을 수 있다\n",
    "\"\"\"\n",
    "def 함수명(인수):\n",
    "    처리\n",
    "    return 반환값\n",
    "\"\"\""
   ]
  },
  {
   "cell_type": "code",
   "execution_count": 1,
   "metadata": {},
   "outputs": [
    {
     "name": "stdout",
     "output_type": "stream",
     "text": [
      "4\n"
     ]
    }
   ],
   "source": [
    "# 함수를 정의하고, 호출한다\n",
    "def my_func_1():\n",
    "    a = 1\n",
    "    b = 3\n",
    "    print(a + b)\n",
    "\n",
    "my_func_1()"
   ]
  },
  {
   "cell_type": "code",
   "execution_count": 2,
   "metadata": {},
   "outputs": [
    {
     "name": "stdout",
     "output_type": "stream",
     "text": [
      "7\n"
     ]
    }
   ],
   "source": [
    "# 인수를 동반하는 함수\n",
    "def my_func_2(p, q):\n",
    "    print(p + q)\n",
    "\n",
    "my_func_2(3, 4)"
   ]
  },
  {
   "cell_type": "code",
   "execution_count": 3,
   "metadata": {},
   "outputs": [
    {
     "name": "stdout",
     "output_type": "stream",
     "text": [
      "7\n"
     ]
    }
   ],
   "source": [
    "# 인수와 반환값을 동반하는 함수\n",
    "def my_func_3(p, q):\n",
    "    r = p + q\n",
    "    return r\n",
    "\n",
    "k = my_func_3(3, 4)\n",
    "print(k)"
   ]
  },
  {
   "cell_type": "code",
   "execution_count": 5,
   "metadata": {},
   "outputs": [
    {
     "ename": "NameError",
     "evalue": "name 'my_func_33' is not defined",
     "output_type": "error",
     "traceback": [
      "\u001b[1;31m---------------------------------------------------------------------------\u001b[0m",
      "\u001b[1;31mNameError\u001b[0m                                 Traceback (most recent call last)",
      "Cell \u001b[1;32mIn[5], line 7\u001b[0m\n\u001b[0;32m      4\u001b[0m     s \u001b[38;5;241m=\u001b[39m p \u001b[38;5;241m-\u001b[39m q\n\u001b[0;32m      5\u001b[0m     \u001b[38;5;28;01mreturn\u001b[39;00m (r, s)\n\u001b[1;32m----> 7\u001b[0m k, l \u001b[38;5;241m=\u001b[39m my_func_33(\u001b[38;5;241m5\u001b[39m, \u001b[38;5;241m2\u001b[39m)\n\u001b[0;32m      8\u001b[0m \u001b[38;5;28mprint\u001b[39m(k, l)\n",
      "\u001b[1;31mNameError\u001b[0m: name 'my_func_33' is not defined"
     ]
    }
   ],
   "source": [
    "# 반환값을 튜플로 한다\n",
    "def my_func_3(p, q):\n",
    "    r = p + q\n",
    "    s = p - q\n",
    "    return (r, s)\n",
    "\n",
    "k, l = my_func_3(5, 2)\n",
    "print(k, l)"
   ]
  }
 ],
 "metadata": {
  "kernelspec": {
   "display_name": "base",
   "language": "python",
   "name": "python3"
  },
  "language_info": {
   "codemirror_mode": {
    "name": "ipython",
    "version": 3
   },
   "file_extension": ".py",
   "mimetype": "text/x-python",
   "name": "python",
   "nbconvert_exporter": "python",
   "pygments_lexer": "ipython3",
   "version": "3.11.7"
  }
 },
 "nbformat": 4,
 "nbformat_minor": 2
}
