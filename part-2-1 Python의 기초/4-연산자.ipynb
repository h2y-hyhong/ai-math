{
 "cells": [
  {
   "cell_type": "code",
   "execution_count": null,
   "metadata": {},
   "outputs": [],
   "source": [
    "# 연산자===========================================================\n",
    "# 연산자를 사용해서 여러 가지 연산을 실시할 수 있다"
   ]
  },
  {
   "cell_type": "code",
   "execution_count": 15,
   "metadata": {},
   "outputs": [
    {
     "name": "stdout",
     "output_type": "stream",
     "text": [
      "덧셈:  7\n",
      "뺄셈:  4\n",
      "곱셈:  12\n",
      "거듭제곱:  81\n"
     ]
    }
   ],
   "source": [
    "# 여러 가지 Python의 연산자\n",
    "a = 3\n",
    "b = 4\n",
    "\n",
    "c = a + b\n",
    "print(\"덧셈: \", c)\n",
    "\n",
    "d = a - b\n",
    "print(\"뺄셈: \", b)\n",
    "\n",
    "e = a * b\n",
    "print(\"곱셈: \", e)\n",
    "\n",
    "f = a ** b\n",
    "print(\"거듭제곱: \", f)"
   ]
  },
  {
   "cell_type": "code",
   "execution_count": 17,
   "metadata": {},
   "outputs": [
    {
     "name": "stdout",
     "output_type": "stream",
     "text": [
      "나눗셈(소수):  0.75\n",
      "나눗셈(정수):  0\n",
      "나머지:  3\n"
     ]
    }
   ],
   "source": [
    "#나눗셈 연산자\n",
    "g = a / b\n",
    "print(\"나눗셈(소수): \", g)\n",
    "\n",
    "h = a // b\n",
    "print(\"나눗셈(정수): \", h)\n",
    "\n",
    "i = a % b\n",
    "print(\"나머지: \", i)"
   ]
  },
  {
   "cell_type": "code",
   "execution_count": 19,
   "metadata": {},
   "outputs": [
    {
     "name": "stdout",
     "output_type": "stream",
     "text": [
      "3을 더한다:  8\n",
      "3을 뺀다:  2\n"
     ]
    }
   ],
   "source": [
    "# 변수 자신에게 연산을 실시한다\n",
    "j = 5\n",
    "j += 3\n",
    "print(\"3을 더한다: \", j)\n",
    "\n",
    "k = 5\n",
    "k -= 3\n",
    "print(\"3을 뺀다: \", k)"
   ]
  }
 ],
 "metadata": {
  "kernelspec": {
   "display_name": "base",
   "language": "python",
   "name": "python3"
  },
  "language_info": {
   "codemirror_mode": {
    "name": "ipython",
    "version": 3
   },
   "file_extension": ".py",
   "mimetype": "text/x-python",
   "name": "python",
   "nbconvert_exporter": "python",
   "pygments_lexer": "ipython3",
   "version": "3.11.7"
  }
 },
 "nbformat": 4,
 "nbformat_minor": 2
}
