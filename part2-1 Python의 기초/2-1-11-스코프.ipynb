{
 "cells": [
  {
   "cell_type": "code",
   "execution_count": null,
   "metadata": {},
   "outputs": [],
   "source": [
    "# 스코프란 변수에 접근할 수 있는 범위\n",
    "# 로컬 변수: 함수 안\n",
    "# 글로벌 변수: 함수 밖\n",
    "\n",
    "# 함수 밖에서 로컬 변수에 접근하려고 하면 오류 발생"
   ]
  },
  {
   "cell_type": "code",
   "execution_count": 1,
   "metadata": {},
   "outputs": [
    {
     "name": "stdout",
     "output_type": "stream",
     "text": [
      "123 456\n"
     ]
    }
   ],
   "source": [
    "# 로컬 변수와 글로벌 변수\n",
    "a = 123\n",
    "\n",
    "def show_number():\n",
    "    b = 456\n",
    "    print(a, b)\n",
    "\n",
    "show_number()"
   ]
  },
  {
   "cell_type": "code",
   "execution_count": 2,
   "metadata": {},
   "outputs": [
    {
     "name": "stdout",
     "output_type": "stream",
     "text": [
      "Local:  456\n",
      "Global:  123\n"
     ]
    }
   ],
   "source": [
    "# 글로벌 변수와 같은 이름의 로컬 변수\n",
    "a = 123\n",
    "\n",
    "def set_local():\n",
    "    a = 456\n",
    "    print(\"Local: \", a)\n",
    "\n",
    "set_local()\n",
    "print(\"Global: \", a)"
   ]
  },
  {
   "cell_type": "code",
   "execution_count": 4,
   "metadata": {},
   "outputs": [
    {
     "name": "stdout",
     "output_type": "stream",
     "text": [
      "Local:  456\n",
      "Global:  123\n"
     ]
    }
   ],
   "source": [
    "# 인수로서 사용되는 변수의 스코프\n",
    "a = 123\n",
    "\n",
    "def show_arg(a):\n",
    "    print(\"Local: \", a)\n",
    "\n",
    "show_arg(456)\n",
    "print(\"Global: \", a)"
   ]
  },
  {
   "cell_type": "code",
   "execution_count": 6,
   "metadata": {},
   "outputs": [
    {
     "name": "stdout",
     "output_type": "stream",
     "text": [
      "Global:  456\n",
      "Global:  456\n"
     ]
    }
   ],
   "source": [
    "# 함수 내에서 글로벌 변수의 값을 변경한다\n",
    "# global 또는 nonlocal를 이용해서 로컬 변수가 아님을 명시해야 한다\n",
    "a = 123\n",
    "\n",
    "def set_global():\n",
    "    global a\n",
    "    a = 456\n",
    "    print(\"Global: \", a)\n",
    "\n",
    "set_global()\n",
    "print(\"Global: \", a)"
   ]
  }
 ],
 "metadata": {
  "kernelspec": {
   "display_name": "base",
   "language": "python",
   "name": "python3"
  },
  "language_info": {
   "codemirror_mode": {
    "name": "ipython",
    "version": 3
   },
   "file_extension": ".py",
   "mimetype": "text/x-python",
   "name": "python",
   "nbconvert_exporter": "python",
   "pygments_lexer": "ipython3",
   "version": "3.11.7"
  }
 },
 "nbformat": 4,
 "nbformat_minor": 2
}
