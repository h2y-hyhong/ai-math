{
 "cells": [
  {
   "cell_type": "code",
   "execution_count": null,
   "metadata": {},
   "outputs": [],
   "source": [
    "# 튜플 =================================================================================\n",
    "# 리스트와 같이 여러 개의 값을 모아서 다룰 수 있지만 요소의 추가, 삭제, 교체 등은 할 수 없다\n",
    "# 요소를 변경하지 않음: 튜플 \n",
    "# 요소를 변경: 리스트"
   ]
  },
  {
   "cell_type": "code",
   "execution_count": 28,
   "metadata": {},
   "outputs": [
    {
     "name": "stdout",
     "output_type": "stream",
     "text": [
      "3\n"
     ]
    }
   ],
   "source": [
    "# 튜플 요소에 액세스\n",
    "a = (1, 2, 3, 4, 5)\n",
    "b = a[2]\n",
    "print(b)"
   ]
  },
  {
   "cell_type": "code",
   "execution_count": 29,
   "metadata": {},
   "outputs": [
    {
     "name": "stdout",
     "output_type": "stream",
     "text": [
      "(3,)\n"
     ]
    }
   ],
   "source": [
    "# 요소가 하나인 튜플\n",
    "# 요소가 하나인 튜플은 마지막에 콤마(,)가 필요하다\n",
    "c = (3,)\n",
    "print(c)"
   ]
  },
  {
   "cell_type": "code",
   "execution_count": 31,
   "metadata": {},
   "outputs": [
    {
     "name": "stdout",
     "output_type": "stream",
     "text": [
      "1 2 3\n",
      "4 5 6\n"
     ]
    }
   ],
   "source": [
    "# 리스트, 튜플의 요소를 한데 모아서 변수에 대입한다\n",
    "d = [1, 2, 3]\n",
    "d_1, d_2, d_3 = d\n",
    "print(d_1, d_2, d_3)\n",
    "\n",
    "e = (4, 5, 6)\n",
    "e_1, e_2, e_3 = e\n",
    "print(e_1, e_2, e_3)"
   ]
  }
 ],
 "metadata": {
  "kernelspec": {
   "display_name": "base",
   "language": "python",
   "name": "python3"
  },
  "language_info": {
   "codemirror_mode": {
    "name": "ipython",
    "version": 3
   },
   "file_extension": ".py",
   "mimetype": "text/x-python",
   "name": "python",
   "nbconvert_exporter": "python",
   "pygments_lexer": "ipython3",
   "version": "3.11.7"
  }
 },
 "nbformat": 4,
 "nbformat_minor": 2
}
