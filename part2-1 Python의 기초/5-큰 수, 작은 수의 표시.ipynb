{
 "cells": [
  {
   "cell_type": "code",
   "execution_count": null,
   "metadata": {},
   "outputs": [],
   "source": [
    "# 큰 수, 작은 수의 표시=============================================\n",
    "# 큰 수, 작은 수는 e를 사용해서 표기할 수 있다\n",
    "# e의 왼쪽에 소수이고\n",
    "# - e의 오른쪽에 양수: 왼쪽 소수 * (오른쪽 정수 * 10)\n",
    "# - e의 오른쪽이 음수: 왼쪽 소수 / (오른쪽 정수 * 10)"
   ]
  },
  {
   "cell_type": "code",
   "execution_count": 20,
   "metadata": {},
   "outputs": [
    {
     "name": "stdout",
     "output_type": "stream",
     "text": [
      "120000.0\n",
      "0.00012\n"
     ]
    }
   ],
   "source": [
    "# 큰 수, 작은 수의 표기\n",
    "a = 1.2e5\n",
    "print(a)\n",
    "\n",
    "b = 1.2e-4 \n",
    "print(b)"
   ]
  }
 ],
 "metadata": {
  "kernelspec": {
   "display_name": "base",
   "language": "python",
   "name": "python3"
  },
  "language_info": {
   "codemirror_mode": {
    "name": "ipython",
    "version": 3
   },
   "file_extension": ".py",
   "mimetype": "text/x-python",
   "name": "python",
   "nbconvert_exporter": "python",
   "pygments_lexer": "ipython3",
   "version": "3.11.7"
  }
 },
 "nbformat": 4,
 "nbformat_minor": 2
}
