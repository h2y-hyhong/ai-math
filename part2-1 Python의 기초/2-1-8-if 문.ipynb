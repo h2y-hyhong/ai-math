{
 "cells": [
  {
   "cell_type": "code",
   "execution_count": 1,
   "metadata": {},
   "outputs": [
    {
     "data": {
      "text/plain": [
       "'\\nif 조건식:\\n    처리1\\nelse:\\n    처리2\\n'"
      ]
     },
     "execution_count": 1,
     "metadata": {},
     "output_type": "execute_result"
    }
   ],
   "source": [
    "# if 문\n",
    "# if 문은 조건 분기를 위해 사용\n",
    "\"\"\"\n",
    "if 조건식:\n",
    "    처리1\n",
    "else:\n",
    "    처리2\n",
    "\"\"\""
   ]
  },
  {
   "cell_type": "code",
   "execution_count": 2,
   "metadata": {},
   "outputs": [
    {
     "name": "stdout",
     "output_type": "stream",
     "text": [
      "7\n"
     ]
    }
   ],
   "source": [
    "# if 문에 의해 조건 분기\n",
    "a = 5\n",
    "\n",
    "if a > 3:\n",
    "    print(a + 2)\n",
    "else:\n",
    "    print(a - 2)"
   ]
  },
  {
   "cell_type": "code",
   "execution_count": 3,
   "metadata": {},
   "outputs": [
    {
     "name": "stdout",
     "output_type": "stream",
     "text": [
      "9\n"
     ]
    }
   ],
   "source": [
    "# == 연산자에 의한 비교\n",
    "\n",
    "b = 7\n",
    "if b ==7:\n",
    "    print(b + 2)\n",
    "else:\n",
    "    print(b -2)"
   ]
  }
 ],
 "metadata": {
  "kernelspec": {
   "display_name": "base",
   "language": "python",
   "name": "python3"
  },
  "language_info": {
   "codemirror_mode": {
    "name": "ipython",
    "version": 3
   },
   "file_extension": ".py",
   "mimetype": "text/x-python",
   "name": "python",
   "nbconvert_exporter": "python",
   "pygments_lexer": "ipython3",
   "version": "3.11.7"
  }
 },
 "nbformat": 4,
 "nbformat_minor": 2
}
