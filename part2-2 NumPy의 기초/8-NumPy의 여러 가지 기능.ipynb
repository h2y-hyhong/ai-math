{
 "cells": [
  {
   "cell_type": "code",
   "execution_count": 1,
   "metadata": {},
   "outputs": [
    {
     "name": "stdout",
     "output_type": "stream",
     "text": [
      "합계:  15\n",
      "평균:  2.5\n",
      "최댓값:  5\n",
      "최솟값:  0\n"
     ]
    }
   ],
   "source": [
    "# NumPy가 가진 여러 가지 함수\n",
    "import numpy as np\n",
    "\n",
    "a = np.array(\n",
    "    [\n",
    "        [0, 1, 2],\n",
    "        [3, 4, 5]\n",
    "    ]\n",
    ")\n",
    "\n",
    "print(\"합계: \", np.sum(a))\n",
    "print(\"평균: \", np.average(a))\n",
    "print(\"최댓값: \", np.max(a))\n",
    "print(\"최솟값: \" , np.min(a))"
   ]
  }
 ],
 "metadata": {
  "kernelspec": {
   "display_name": "base",
   "language": "python",
   "name": "python3"
  },
  "language_info": {
   "codemirror_mode": {
    "name": "ipython",
    "version": 3
   },
   "file_extension": ".py",
   "mimetype": "text/x-python",
   "name": "python",
   "nbconvert_exporter": "python",
   "pygments_lexer": "ipython3",
   "version": "3.11.7"
  }
 },
 "nbformat": 4,
 "nbformat_minor": 2
}
