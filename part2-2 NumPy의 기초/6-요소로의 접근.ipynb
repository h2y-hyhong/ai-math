{
 "cells": [
  {
   "cell_type": "code",
   "execution_count": 1,
   "metadata": {},
   "outputs": [
    {
     "name": "stdout",
     "output_type": "stream",
     "text": [
      "4\n"
     ]
    }
   ],
   "source": [
    "# 인덱스를 지정하고, 배열의 요소로 접근한다\n",
    "\n",
    "import numpy as np\n",
    "\n",
    "a = np.array([1, 2, 3, 4, 5])\n",
    "print(a[3])"
   ]
  },
  {
   "cell_type": "code",
   "execution_count": 2,
   "metadata": {},
   "outputs": [
    {
     "name": "stdout",
     "output_type": "stream",
     "text": [
      "[1 2 9 4 5]\n"
     ]
    }
   ],
   "source": [
    "# 인덱스를 지정해서 배열의 요소를 바꾼다\n",
    "a[2] = 9\n",
    "print(a)"
   ]
  },
  {
   "cell_type": "code",
   "execution_count": 3,
   "metadata": {},
   "outputs": [
    {
     "name": "stdout",
     "output_type": "stream",
     "text": [
      "5\n"
     ]
    }
   ],
   "source": [
    "# 2차원 배열의 요소로 접근한다\n",
    "b = np.array(\n",
    "    [\n",
    "        [0, 1, 2],\n",
    "        [3, 4, 5]\n",
    "    ]\n",
    ")\n",
    "\n",
    "print(b[1, 2])"
   ]
  },
  {
   "cell_type": "code",
   "execution_count": 4,
   "metadata": {},
   "outputs": [
    {
     "name": "stdout",
     "output_type": "stream",
     "text": [
      "[[0 1 2]\n",
      " [3 4 9]]\n"
     ]
    }
   ],
   "source": [
    "# 2차원 배열의 요소를 바꾼다\n",
    "b[1, 2] = 9\n",
    "\n",
    "print(b)"
   ]
  },
  {
   "cell_type": "code",
   "execution_count": 5,
   "metadata": {},
   "outputs": [
    {
     "name": "stdout",
     "output_type": "stream",
     "text": [
      "[3 4 5]\n",
      "\n",
      "[[0 6 2]\n",
      " [3 7 5]]\n"
     ]
    }
   ],
   "source": [
    "# 행이나 열에 접근한다\n",
    "c = np.array(\n",
    "    [\n",
    "        [0, 1, 2],\n",
    "        [3, 4, 5]\n",
    "    ]\n",
    ")\n",
    "\n",
    "print(c[1, :])\n",
    "print()\n",
    "c[:, 1] = np.array([6, 7])\n",
    "print(c)"
   ]
  }
 ],
 "metadata": {
  "kernelspec": {
   "display_name": "base",
   "language": "python",
   "name": "python3"
  },
  "language_info": {
   "codemirror_mode": {
    "name": "ipython",
    "version": 3
   },
   "file_extension": ".py",
   "mimetype": "text/x-python",
   "name": "python",
   "nbconvert_exporter": "python",
   "pygments_lexer": "ipython3",
   "version": "3.11.7"
  }
 },
 "nbformat": 4,
 "nbformat_minor": 2
}
