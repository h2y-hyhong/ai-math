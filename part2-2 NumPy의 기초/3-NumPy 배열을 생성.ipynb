{
 "cells": [
  {
   "cell_type": "code",
   "execution_count": null,
   "metadata": {},
   "outputs": [],
   "source": [
    "# NumPy의 배열은 array() 함수를 사용함으로써 생성한다"
   ]
  },
  {
   "cell_type": "code",
   "execution_count": 1,
   "metadata": {},
   "outputs": [
    {
     "name": "stdout",
     "output_type": "stream",
     "text": [
      "[0 1 2 3 4 5]\n"
     ]
    }
   ],
   "source": [
    "# Python의 리스트로부터 NumPy 배열을 만든다\n",
    "import numpy as np\n",
    "\n",
    "a = np.array([0, 1, 2, 3, 4, 5])\n",
    "\n",
    "print(a)"
   ]
  },
  {
   "cell_type": "code",
   "execution_count": 3,
   "metadata": {},
   "outputs": [
    {
     "name": "stdout",
     "output_type": "stream",
     "text": [
      "[[0 1 2]\n",
      " [3 4 5]]\n"
     ]
    }
   ],
   "source": [
    "# 2중 리스트로부터 NumPy의 2차원 배열을 만든다\n",
    "import numpy as np\n",
    "\n",
    "b = np.array(\n",
    "    [\n",
    "        [0, 1, 2], \n",
    "        [3, 4, 5]\n",
    "    ]\n",
    ")\n",
    "print(b)"
   ]
  },
  {
   "cell_type": "code",
   "execution_count": 4,
   "metadata": {},
   "outputs": [],
   "source": [
    "# 3중 리스트로부터 NumPy의 3차원 배열을 만든다\n",
    "import numpy as np\n",
    "\n",
    "\n",
    "c = np.array(\n",
    "    [\n",
    "        [[0, 1, 2], [3, 4, 5]], \n",
    "        [[5,4,3], [2, 1, 0]]\n",
    "    ]\n",
    ")"
   ]
  },
  {
   "cell_type": "code",
   "execution_count": 5,
   "metadata": {},
   "outputs": [
    {
     "name": "stdout",
     "output_type": "stream",
     "text": [
      "[0. 0. 0. 0. 0. 0. 0. 0.]\n",
      "[1. 1. 1. 1. 1. 1. 1. 1.]\n",
      "[0 1 2 3 4 5 6 7]\n"
     ]
    }
   ],
   "source": [
    "# 배열을 생성하는 다양한 함수\n",
    "# zeros(): 요소가 모두 0인 배열 생성\n",
    "# ones(): 요소가 모두 1인 배열 생성\n",
    "# arange(): 0부터 인수 이전까지 정수가 차례대로 나열된 배열 생성\n",
    "\n",
    "import numpy as np\n",
    "\n",
    "d = np.zeros(8)\n",
    "print(d)\n",
    "\n",
    "e = np.ones(8)\n",
    "print(e)\n",
    "\n",
    "f = np.arange(8)\n",
    "print(f)"
   ]
  }
 ],
 "metadata": {
  "kernelspec": {
   "display_name": "base",
   "language": "python",
   "name": "python3"
  },
  "language_info": {
   "codemirror_mode": {
    "name": "ipython",
    "version": 3
   },
   "file_extension": ".py",
   "mimetype": "text/x-python",
   "name": "python",
   "nbconvert_exporter": "python",
   "pygments_lexer": "ipython3",
   "version": "3.11.7"
  }
 },
 "nbformat": 4,
 "nbformat_minor": 2
}
